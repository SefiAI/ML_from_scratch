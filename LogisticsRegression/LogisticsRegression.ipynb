{
  "nbformat": 4,
  "nbformat_minor": 0,
  "metadata": {
    "colab": {
      "provenance": []
    },
    "kernelspec": {
      "name": "python3",
      "display_name": "Python 3"
    },
    "language_info": {
      "name": "python"
    }
  },
  "cells": [
    {
      "cell_type": "markdown",
      "source": [
        "# Logistics Regression Model Implementation"
      ],
      "metadata": {
        "id": "xWvslQ0Ky-Rx"
      }
    },
    {
      "cell_type": "code",
      "execution_count": 6,
      "metadata": {
        "id": "JUh55lNzXhKC"
      },
      "outputs": [],
      "source": [
        "import numpy as np\n",
        "\n",
        "def sigmoid(x):\n",
        "    \"\"\"\n",
        "    Compute the sigmoid function for the input, with protection against overflow.\n",
        "\n",
        "    Parameters:\n",
        "    x (array-like): Input data.\n",
        "\n",
        "    Returns:\n",
        "    array-like: Sigmoid of the input.\n",
        "    \"\"\"\n",
        "    x = np.clip(x, -500, 500)  # Clip values to prevent overflow\n",
        "    return 1 / (1 + np.exp(-x))\n",
        "\n",
        "class LogisticRegression:\n",
        "    def __init__(self, learning_rate=0.001, n_iterations=1000):\n",
        "        \"\"\"\n",
        "        Logistic Regression classifier using gradient descent.\n",
        "\n",
        "        Parameters:\n",
        "        learning_rate (float): Learning rate for gradient descent.\n",
        "        n_iterations (int): Number of iterations for the training loop.\n",
        "        \"\"\"\n",
        "        self.learning_rate = learning_rate\n",
        "        self.n_iterations = n_iterations\n",
        "        self.weights = None\n",
        "        self.bias = None\n",
        "\n",
        "    def fit(self, X, y):\n",
        "        \"\"\"\n",
        "        Fit the model to the training data.\n",
        "\n",
        "        Parameters:\n",
        "        X (array-like): Feature matrix of shape (n_samples, n_features).\n",
        "        y (array-like): Target vector of shape (n_samples,).\n",
        "        \"\"\"\n",
        "        n_samples, n_features = X.shape\n",
        "        self.weights = np.zeros(n_features)\n",
        "        self.bias = 0\n",
        "\n",
        "        # Gradient descent for training the model\n",
        "        for _ in range(self.n_iterations):\n",
        "            # Compute linear combination of inputs and weights\n",
        "            linear_predictions = np.dot(X, self.weights) + self.bias\n",
        "            predictions = sigmoid(linear_predictions)\n",
        "\n",
        "            # Compute gradients\n",
        "            dw = (1 / n_samples) * np.dot(X.T, (predictions - y))\n",
        "            db = (1 / n_samples) * np.sum(predictions - y)\n",
        "\n",
        "            # Update weights and bias using the gradients\n",
        "            self.weights -= self.learning_rate * dw\n",
        "            self.bias -= self.learning_rate * db\n",
        "\n",
        "    def predict(self, X):\n",
        "        \"\"\"\n",
        "        Predict class labels for samples in X.\n",
        "\n",
        "        Parameters:\n",
        "        X (array-like): Feature matrix of shape (n_samples, n_features).\n",
        "\n",
        "        Returns:\n",
        "        array: Predicted class labels.\n",
        "        \"\"\"\n",
        "        linear_predictions = np.dot(X, self.weights) + self.bias\n",
        "        y_predictions = sigmoid(linear_predictions)\n",
        "        class_predictions = [0 if y <= 0.5 else 1 for y in y_predictions]\n",
        "        return np.array(class_predictions)\n"
      ]
    },
    {
      "cell_type": "markdown",
      "source": [
        "# Test the model"
      ],
      "metadata": {
        "id": "RFgjhcR4zE1h"
      }
    },
    {
      "cell_type": "code",
      "source": [
        "import numpy as np\n",
        "from sklearn.model_selection import train_test_split\n",
        "from sklearn import datasets\n",
        "import matplotlib.pyplot as plt\n",
        "\n",
        "def calculate_accuracy(y_true, y_pred):\n",
        "    \"\"\"\n",
        "    Calculate the accuracy of predictions.\n",
        "\n",
        "    Parameters:\n",
        "    y_true (array-like): True labels.\n",
        "    y_pred (array-like): Predicted labels.\n",
        "\n",
        "    Returns:\n",
        "    float: Accuracy of the predictions.\n",
        "    \"\"\"\n",
        "    return np.sum(y_true == y_pred) / len(y_true)\n",
        "\n",
        "# Load the breast cancer dataset\n",
        "breast_cancer_data = datasets.load_breast_cancer()\n",
        "X, y = breast_cancer_data.data, breast_cancer_data.target\n",
        "\n",
        "# Split the dataset into training and testing sets\n",
        "X_train, X_test, y_train, y_test = train_test_split(X, y, test_size=0.2, random_state=42)\n",
        "\n",
        "# Initialize and train the Logistic Regression model\n",
        "logistic_regression_model = LogisticRegression(learning_rate=0.001, n_iterations=1000)\n",
        "logistic_regression_model.fit(X_train, y_train)\n",
        "\n",
        "# Predict the labels for the test set\n",
        "y_pred = logistic_regression_model.predict(X_test)\n",
        "\n",
        "# Calculate and print the accuracy of the model\n",
        "accuracy = calculate_accuracy(y_test, y_pred)\n",
        "print(f\"Model Accuracy: {accuracy * 100:.2f}%\")\n"
      ],
      "metadata": {
        "colab": {
          "base_uri": "https://localhost:8080/"
        },
        "id": "6Xo2OTQxy4ya",
        "outputId": "286b1f4b-81c9-4734-ed79-2c512243a63e"
      },
      "execution_count": 7,
      "outputs": [
        {
          "output_type": "stream",
          "name": "stdout",
          "text": [
            "Model Accuracy: 94.74%\n"
          ]
        }
      ]
    }
  ]
}